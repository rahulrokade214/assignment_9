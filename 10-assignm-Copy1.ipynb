{
 "cells": [
  {
   "cell_type": "markdown",
   "id": "a3396fae-2793-4884-9e8f-e91126862785",
   "metadata": {},
   "source": [
    "### Q1. Explain Class and Object with respect to Object-Oriented Programming. Give a suitable example."
   ]
  },
  {
   "cell_type": "markdown",
   "id": "e0c8bccd-dc39-4a74-85f0-9d212e07b120",
   "metadata": {},
   "source": [
    "#### An object is called an instance of a class. For example, suppose Bike is a class then we can create objects like bike1 , bike2 , etc from the class. Here's the syntax to create an object. Here, bike1 is the object of the class."
   ]
  },
  {
   "cell_type": "markdown",
   "id": "9a26e61f-2cef-4807-b7dc-4b1ac8eac300",
   "metadata": {},
   "source": [
    "## Q2. Name the four pillars of OOPs.\n"
   ]
  },
  {
   "cell_type": "markdown",
   "id": "dadb3bf7-ac5b-4114-ab4c-90d1407c95f7",
   "metadata": {},
   "source": [
    "### The Four Pillars of Object Oriented Programming\n",
    "### Abstraction.\n",
    "### Encapsulation.\n",
    "### Inheritance.\n",
    "### Polymorphism."
   ]
  },
  {
   "cell_type": "markdown",
   "id": "8121ea6c-b245-4ea3-b49e-dc6ffb9525a2",
   "metadata": {},
   "source": [
    "## 3. Explain why the __init__() function is used. Give a suitable example.\n"
   ]
  },
  {
   "cell_type": "markdown",
   "id": "80f1c6ca-47b1-40e2-a790-1f729234038a",
   "metadata": {},
   "source": [
    "### he __init__ function is called every time an object is created from a class. The __init__ method lets the class initialize the object's attributes and serves no other purpose. It is only used within classes."
   ]
  },
  {
   "cell_type": "markdown",
   "id": "c8d3f21d-5fe2-4b5c-afcb-848be07f6974",
   "metadata": {},
   "source": [
    "\n",
    "## Q4. Why self is used in OOPs?\n"
   ]
  },
  {
   "cell_type": "markdown",
   "id": "e4b2d1a3-7f5e-413f-aba8-0ac158c705a2",
   "metadata": {},
   "source": [
    "### The self is used to represent the instance of the class. With this keyword, you can access the attributes and methods of the class in python. It binds the attributes with the given arguments. The reason why we use self is that Python does not use the '@' syntax to refer to instance attributes."
   ]
  },
  {
   "cell_type": "markdown",
   "id": "393a60fe-dea7-4c58-be4e-1ac9ba226301",
   "metadata": {},
   "source": [
    "## Q5. What is inheritance? Give an example for each type of inheritance."
   ]
  },
  {
   "cell_type": "markdown",
   "id": "d184fab1-cb38-4212-a386-76b2cf786f16",
   "metadata": {},
   "source": [
    "### Inheritance is a core principle of object-oriented programming where a class can inherit properties and behavior from another class. It promotes code reuse and hierarchical relationships among classes. For example, consider a base class called \"Animal\" with attributes like name and age, and a method called \"eat()\"."
   ]
  }
 ],
 "metadata": {
  "kernelspec": {
   "display_name": "Python 3 (ipykernel)",
   "language": "python",
   "name": "python3"
  },
  "language_info": {
   "codemirror_mode": {
    "name": "ipython",
    "version": 3
   },
   "file_extension": ".py",
   "mimetype": "text/x-python",
   "name": "python",
   "nbconvert_exporter": "python",
   "pygments_lexer": "ipython3",
   "version": "3.10.8"
  }
 },
 "nbformat": 4,
 "nbformat_minor": 5
}
